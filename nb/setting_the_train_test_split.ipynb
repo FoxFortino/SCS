{
 "cells": [
  {
   "cell_type": "code",
   "execution_count": 1,
   "id": "49a9f52e-1919-4fe0-9146-b743a3f77c1d",
   "metadata": {},
   "outputs": [],
   "source": [
    "import sys\n",
    "import os\n",
    "\n",
    "import numpy as np\n",
    "import pandas as pd\n",
    "from matplotlib import pyplot as plt\n",
    "from scipy import stats\n",
    "\n",
    "# My packages\n",
    "sys.path.insert(0, \"../scs/\")\n",
    "import data_degrading as dd\n",
    "import data_preparation as dp\n",
    "\n",
    "from icecream import ic\n",
    "from importlib import reload\n",
    "rng = np.random.RandomState(1415)"
   ]
  },
  {
   "cell_type": "code",
   "execution_count": 2,
   "id": "b00774be-7f17-4330-8861-22d6560a0bdd",
   "metadata": {},
   "outputs": [],
   "source": [
    "df_raw = pd.read_parquet(\"/home/2649/repos/SCS/data/raw/sn_data.parquet\")"
   ]
  },
  {
   "cell_type": "code",
   "execution_count": 3,
   "id": "56af8a00-cb8e-4fad-b773-343ee8046c98",
   "metadata": {},
   "outputs": [
    {
     "name": "stderr",
     "output_type": "stream",
     "text": [
      "ic| 'Preprocess the data.'\n"
     ]
    }
   ],
   "source": [
    "ic(\"Preprocess the data.\")\n",
    "phase_range = (-20, 50)\n",
    "ptp_range = (0.1, 100)\n",
    "wvl_range = (4500, 7000)\n",
    "\n",
    "df_P = dp.preproccess_dataframe(\n",
    "    df_raw,\n",
    "    phase_range=phase_range,\n",
    "    ptp_range=ptp_range,\n",
    "    wvl_range=wvl_range,\n",
    ")"
   ]
  },
  {
   "cell_type": "code",
   "execution_count": 4,
   "id": "da6104f5-49ca-49f6-bd5e-abeb55802191",
   "metadata": {},
   "outputs": [
    {
     "name": "stderr",
     "output_type": "stream",
     "text": [
      "ic| 'Train-test split.'\n"
     ]
    }
   ],
   "source": [
    "ic(\"Train-test split.\")\n",
    "train_frac = 0.50\n",
    "\n",
    "df_P_trn, df_P_tst = dp.split_data(df_P, train_frac, rng)"
   ]
  },
  {
   "cell_type": "code",
   "execution_count": 5,
   "id": "a7520c56-dd90-4eb8-bb88-410ce40d6113",
   "metadata": {},
   "outputs": [
    {
     "data": {
      "text/plain": [
       "SN Subtype\n",
       "II-pec         0\n",
       "IIL            4\n",
       "IIP           58\n",
       "IIb          140\n",
       "IIn           19\n",
       "Ia-91T       163\n",
       "Ia-91bg      101\n",
       "Ia-csm        12\n",
       "Ia-norm     1058\n",
       "Ia-pec        79\n",
       "Iax           28\n",
       "Ib-norm       99\n",
       "Ib-pec         5\n",
       "Ibn            9\n",
       "Ic-broad     118\n",
       "Ic-norm      112\n",
       "Ic-pec         6\n",
       "Name: SN Subtype ID, dtype: int64"
      ]
     },
     "execution_count": 5,
     "metadata": {},
     "output_type": "execute_result"
    }
   ],
   "source": [
    "df_P_trn.groupby(by=[\"SN Subtype\"]).count()[\"SN Subtype ID\"]"
   ]
  },
  {
   "cell_type": "code",
   "execution_count": 6,
   "id": "1d847cb8-b72e-444f-af75-69b2876ac2dc",
   "metadata": {},
   "outputs": [
    {
     "data": {
      "text/plain": [
       "SN Subtype\n",
       "II-pec         0\n",
       "IIL            6\n",
       "IIP           46\n",
       "IIb           93\n",
       "IIn            3\n",
       "Ia-91T       185\n",
       "Ia-91bg      131\n",
       "Ia-csm         4\n",
       "Ia-norm     1056\n",
       "Ia-pec        32\n",
       "Iax           34\n",
       "Ib-norm      112\n",
       "Ib-pec         7\n",
       "Ibn           18\n",
       "Ic-broad     111\n",
       "Ic-norm       94\n",
       "Ic-pec        25\n",
       "Name: SN Subtype ID, dtype: int64"
      ]
     },
     "execution_count": 6,
     "metadata": {},
     "output_type": "execute_result"
    }
   ],
   "source": [
    "df_P_tst.groupby(by=[\"SN Subtype\"]).count()[\"SN Subtype ID\"]"
   ]
  },
  {
   "cell_type": "code",
   "execution_count": 8,
   "id": "39ea4dd3-718d-44f1-b7e7-cc0e0cbb1b21",
   "metadata": {},
   "outputs": [],
   "source": [
    "df_P_trn.to_parquet(\"/home/2649/repos/SCS/data/full_res/preprocessed_trn_set.parquet\")\n",
    "df_P_tst.to_parquet(\"/home/2649/repos/SCS/data/full_res/preprocessed_tst_set.parquet\")"
   ]
  },
  {
   "cell_type": "code",
   "execution_count": null,
   "id": "5e9bba17-e876-4a20-91e2-84b52871ca09",
   "metadata": {},
   "outputs": [],
   "source": []
  }
 ],
 "metadata": {
  "kernelspec": {
   "display_name": "Python 3 (ipykernel)",
   "language": "python",
   "name": "python3"
  },
  "language_info": {
   "codemirror_mode": {
    "name": "ipython",
    "version": 3
   },
   "file_extension": ".py",
   "mimetype": "text/x-python",
   "name": "python",
   "nbconvert_exporter": "python",
   "pygments_lexer": "ipython3",
   "version": "3.9.12"
  }
 },
 "nbformat": 4,
 "nbformat_minor": 5
}
