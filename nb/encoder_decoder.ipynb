{
 "cells": [
  {
   "cell_type": "code",
   "execution_count": 20,
   "id": "4f8c00de-cb14-4d07-aaf0-89142fd118b4",
   "metadata": {},
   "outputs": [
    {
     "name": "stdout",
     "output_type": "stream",
     "text": [
      "Importing...\n"
     ]
    }
   ],
   "source": [
    "print(\"Importing...\")\n",
    "from pprint import pprint\n",
    "import json\n",
    "import sys\n",
    "import os\n",
    "from shutil import rmtree\n",
    "from copy import deepcopy\n",
    "from os.path import join\n",
    "from importlib import reload\n",
    "\n",
    "from os.path import isdir\n",
    "from os.path import join\n",
    "from os import mkdir\n",
    "from shutil import rmtree\n",
    "\n",
    "import numpy as np\n",
    "import pandas as pd\n",
    "from scipy import stats\n",
    "from matplotlib import pyplot as plt\n",
    "from sklearn.model_selection import ParameterGrid\n",
    "from sklearn.metrics import f1_score\n",
    "from tensorflow.keras.utils import to_categorical\n",
    "from tensorflow import keras\n",
    "from keras import callbacks\n",
    "from keras import losses\n",
    "from keras import metrics\n",
    "from keras import optimizers\n",
    "from keras import layers\n",
    "from keras import regularizers\n",
    "import tensorflow_addons as tfa\n",
    "\n",
    "sys.path.insert(0, os.path.join(os.getcwd(), \"../scs\"))\n",
    "import scs_config as scsc\n",
    "import data_loading as dl\n",
    "import data_degrading as dd\n",
    "import data_preparation as dp\n",
    "import data_augmentation as da\n",
    "import data_plotting as dplt\n",
    "import learn\n",
    "import lr_schedules\n",
    "import hp_sets\n",
    "import prepare_dataset"
   ]
  },
  {
   "cell_type": "code",
   "execution_count": 2,
   "id": "bc26fa54-1d23-4bc5-b187-c0a18bf2a286",
   "metadata": {},
   "outputs": [],
   "source": [
    "R = 100\n",
    "data_dir_original = \"/home/2649/repos/SCS/data/\"\n",
    "dir_models = \"/lustre/lrspec/users/2649/models/transformer_testing\"\n",
    "\n",
    "# Construct the directories if they don't exist or delete them and recreate\n",
    "# them if they do and `restart_fit` is `True`.\n",
    "dir_model = join(dir_models, f\"{R}_dev\")\n",
    "dir_backup = join(dir_model, \"backup\")\n",
    "dir_model_data = join(dir_model, \"data\")\n",
    "if isdir(dir_model):\n",
    "    rmtree(dir_model)\n",
    "mkdir(dir_model)\n",
    "mkdir(dir_backup)\n",
    "mkdir(dir_model_data)\n",
    "\n",
    "file_trn = join(dir_model_data, f\"sn_data_trn.RPA.parquet\")\n",
    "file_tst = join(dir_model_data, f\"sn_data_tst.RP.parquet\")"
   ]
  },
  {
   "cell_type": "code",
   "execution_count": 3,
   "id": "06321c42-4081-4196-a45c-c0c361195c44",
   "metadata": {},
   "outputs": [],
   "source": [
    "hp = deepcopy(scsc.default_hyper_parameters)\n",
    "\n",
    "hp[\"train_frac\"] = 0.80\n",
    "hp[\"noise_scale\"] = 0.15848931924611134\n",
    "hp[\"spike_scale\"] = 1.045639552591273\n",
    "hp[\"max_spikes\"] = 3"
   ]
  },
  {
   "cell_type": "code",
   "execution_count": null,
   "id": "9b3f0ab4-9031-4f5a-85d5-707709850020",
   "metadata": {},
   "outputs": [
    {
     "name": "stdout",
     "output_type": "stream",
     "text": [
      "Loaded: /home/2649/repos/SCS/data/sn_data.parquet\n",
      "Artificially degrading the following dataset to a spectral resolution of 100:\n",
      "    /home/2649/repos/SCS/data/sn_data.parquet\n"
     ]
    }
   ],
   "source": [
    "# Prepare the dataset from the original dataset dataframe `sn_data_file`.\n",
    "sn_data_file = join(data_dir_original, \"sn_data.parquet\")\n",
    "prepare_dataset.prepare_dataset(\n",
    "    R,\n",
    "    sn_data_file,\n",
    "    dir_model_data,\n",
    "    dir_model_data,\n",
    "    dir_model_data,\n",
    "    dir_model_data,\n",
    "    hp[\"phase_range\"],\n",
    "    hp[\"ptp_range\"],\n",
    "    hp[\"wvl_range\"],\n",
    "    hp[\"train_frac\"],\n",
    "    hp[\"noise_scale\"],\n",
    "    hp[\"spike_scale\"],\n",
    "    hp[\"max_spikes\"],\n",
    "    random_state=hp[\"random_state\"],\n",
    ")\n",
    "\n",
    "# Load the dataset.\n",
    "df_trn = dl.load_sn_data(file_trn)\n",
    "df_tst = dl.load_sn_data(file_tst)\n",
    "dataset, num_wvl, num_classes = learn.prepare_datasets_for_training(\n",
    "    df_trn, df_tst\n",
    ")\n",
    "Xtrn, Ytrn, Xtst, Ytst = dataset"
   ]
  },
  {
   "cell_type": "code",
   "execution_count": 28,
   "id": "8d07be19-34ec-4cf9-8951-4f8a5b63bc87",
   "metadata": {},
   "outputs": [],
   "source": [
    "reload(learn)\n",
    "model = learn.devmodel(\n",
    "    num_wvls=Xtrn.shape[1],\n",
    "    num_classes=num_classes,\n",
    "    num_transformer_blocks=1,\n",
    "    num_heads=4,\n",
    "    key_dim=4,\n",
    "    kr_l2=0,\n",
    "    br_l2=0,\n",
    "    ar_l2=0,\n",
    "    dropout_attention=0,\n",
    "    dropout_projection=0,\n",
    "    filters=512,\n",
    "    num_feed_forward_layers=3,\n",
    "    feed_forward_layer_size=1024,\n",
    "    dropout_feed_forward=0,\n",
    "    initial_projection=100,\n",
    ")"
   ]
  },
  {
   "cell_type": "code",
   "execution_count": 29,
   "id": "8f66f07c-12ea-4be3-8300-0a8b0fd5ace3",
   "metadata": {},
   "outputs": [
    {
     "name": "stdout",
     "output_type": "stream",
     "text": [
      "Model: \"model_4\"\n",
      "__________________________________________________________________________________________________\n",
      " Layer (type)                   Output Shape         Param #     Connected to                     \n",
      "==================================================================================================\n",
      " input_7 (InputLayer)           [(None, 1, 139)]     0           []                               \n",
      "                                                                                                  \n",
      " conv1d_15 (Conv1D)             (None, 100, 139)     200         ['input_7[0][0]']                \n",
      "                                                                                                  \n",
      " multi_head_attention_6 (MultiH  (None, 100, 139)    9083        ['conv1d_15[0][0]',              \n",
      " eadAttention)                                                    'conv1d_15[0][0]']              \n",
      "                                                                                                  \n",
      " dropout_24 (Dropout)           (None, 100, 139)     0           ['multi_head_attention_6[0][0]'] \n",
      "                                                                                                  \n",
      " add_12 (Add)                   (None, 100, 139)     0           ['conv1d_15[0][0]',              \n",
      "                                                                  'dropout_24[0][0]']             \n",
      "                                                                                                  \n",
      " layer_normalization_11 (LayerN  (None, 100, 139)    278         ['add_12[0][0]']                 \n",
      " ormalization)                                                                                    \n",
      "                                                                                                  \n",
      " conv1d_16 (Conv1D)             (None, 100, 512)     71680       ['layer_normalization_11[0][0]'] \n",
      "                                                                                                  \n",
      " conv1d_17 (Conv1D)             (None, 100, 139)     71307       ['conv1d_16[0][0]']              \n",
      "                                                                                                  \n",
      " dropout_25 (Dropout)           (None, 100, 139)     0           ['conv1d_17[0][0]']              \n",
      "                                                                                                  \n",
      " tf.__operators__.add_6 (TFOpLa  (None, 100, 139)    0           ['layer_normalization_11[0][0]', \n",
      " mbda)                                                            'dropout_25[0][0]']             \n",
      "                                                                                                  \n",
      " add_13 (Add)                   (None, 100, 139)     0           ['tf.__operators__.add_6[0][0]'] \n",
      "                                                                                                  \n",
      " layer_normalization_12 (LayerN  (None, 100, 139)    278         ['add_13[0][0]']                 \n",
      " ormalization)                                                                                    \n",
      "                                                                                                  \n",
      " global_max_pooling1d_1 (Global  (None, 139)         0           ['layer_normalization_12[0][0]'] \n",
      " MaxPooling1D)                                                                                    \n",
      "                                                                                                  \n",
      " dense_16 (Dense)               (None, 1024)         143360      ['global_max_pooling1d_1[0][0]'] \n",
      "                                                                                                  \n",
      " dropout_26 (Dropout)           (None, 1024)         0           ['dense_16[0][0]']               \n",
      "                                                                                                  \n",
      " dense_17 (Dense)               (None, 1024)         1049600     ['dropout_26[0][0]']             \n",
      "                                                                                                  \n",
      " dropout_27 (Dropout)           (None, 1024)         0           ['dense_17[0][0]']               \n",
      "                                                                                                  \n",
      " dense_18 (Dense)               (None, 1024)         1049600     ['dropout_27[0][0]']             \n",
      "                                                                                                  \n",
      " dropout_28 (Dropout)           (None, 1024)         0           ['dense_18[0][0]']               \n",
      "                                                                                                  \n",
      " dense_19 (Dense)               (None, 16)           16400       ['dropout_28[0][0]']             \n",
      "                                                                                                  \n",
      "==================================================================================================\n",
      "Total params: 2,411,786\n",
      "Trainable params: 2,411,786\n",
      "Non-trainable params: 0\n",
      "__________________________________________________________________________________________________\n"
     ]
    }
   ],
   "source": [
    "model.summary()"
   ]
  },
  {
   "cell_type": "code",
   "execution_count": null,
   "id": "45a2f9f3-7fef-44a3-97ee-a493cab7bfd3",
   "metadata": {},
   "outputs": [],
   "source": []
  }
 ],
 "metadata": {
  "kernelspec": {
   "display_name": "Python 3 (ipykernel)",
   "language": "python",
   "name": "python3"
  },
  "language_info": {
   "codemirror_mode": {
    "name": "ipython",
    "version": 3
   },
   "file_extension": ".py",
   "mimetype": "text/x-python",
   "name": "python",
   "nbconvert_exporter": "python",
   "pygments_lexer": "ipython3",
   "version": "3.9.12"
  }
 },
 "nbformat": 4,
 "nbformat_minor": 5
}
