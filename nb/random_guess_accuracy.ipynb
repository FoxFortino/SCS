{
 "cells": [
  {
   "cell_type": "code",
   "execution_count": 6,
   "id": "fb04f23b-4699-43c8-92c7-0916e5385d86",
   "metadata": {},
   "outputs": [],
   "source": [
    "import numpy as np\n",
    "from scipy import stats\n",
    "from sklearn.metrics import f1_score\n",
    "\n",
    "rng = np.random.RandomState(1415)"
   ]
  },
  {
   "cell_type": "code",
   "execution_count": 7,
   "id": "6f3bbf7c-3079-4e0e-b19c-c72ab1f7be96",
   "metadata": {},
   "outputs": [],
   "source": [
    "def gen_set(*num_classX):\n",
    "    data_set = []\n",
    "    for i, num_class in enumerate(num_classX):\n",
    "        data_set.append(np.full(num_class, i))\n",
    "    data_set = np.hstack(data_set)\n",
    "    \n",
    "    return data_set"
   ]
  },
  {
   "cell_type": "code",
   "execution_count": 8,
   "id": "251fb3d9-1794-423a-9cb4-b9141d9da54d",
   "metadata": {},
   "outputs": [],
   "source": [
    "def sim_random_accuracy(trn_set_class_amounts, tst_set_class_amounts):\n",
    "    trn_set = gen_set(*trn_set_class_amounts)\n",
    "    tst_set = gen_set(*tst_set_class_amounts)\n",
    "\n",
    "    nTrn = trn_set.size\n",
    "    nTst = tst_set.size\n",
    "\n",
    "    predictions = rng.choice(trn_set, size=nTrn, replace=False)[:nTst]\n",
    "    predicts_on = rng.choice(tst_set, size=nTst, replace=False)\n",
    "    \n",
    "    f1 = f1_score(predicts_on, predictions, average=\"macro\")\n",
    "\n",
    "    correct_predictions = (predicts_on == predictions).sum()\n",
    "    accuracy = correct_predictions / nTst\n",
    "    return accuracy, f1"
   ]
  },
  {
   "cell_type": "code",
   "execution_count": 33,
   "id": "894e20c8-6ac0-4e22-8be1-e0690fc61606",
   "metadata": {},
   "outputs": [],
   "source": [
    "def analytic_random_acc(trn_set_class_amounts, tst_set_class_amounts):\n",
    "    trn_set_class_amounts = np.array(trn_set_class_amounts)\n",
    "    tst_set_class_amounts = np.array(tst_set_class_amounts)\n",
    "    \n",
    "    # print(trn_set_class_amounts)\n",
    "    # print(tst_set_class_amounts)\n",
    "    \n",
    "    nTrn = trn_set_class_amounts.sum()\n",
    "    nTst = tst_set_class_amounts.sum()\n",
    "    # print(nTrn)\n",
    "    # print(nTst)\n",
    "    \n",
    "    probs_Trn = trn_set_class_amounts / nTrn\n",
    "    probs_Tst = tst_set_class_amounts / nTst\n",
    "    # print(probs_Trn)\n",
    "    # print(probs_Tst)\n",
    "    \n",
    "    accuracy = np.dot(probs_Trn, probs_Tst)\n",
    "    return accuracy"
   ]
  },
  {
   "cell_type": "markdown",
   "id": "15d9c392-0a4f-4332-a794-8eed157b65a5",
   "metadata": {},
   "source": [
    "# Simulating random guess accuracy for the following dataset:\n",
    "\n",
    "    Training Set:\n",
    "        * 1000 Class 1\n",
    "        * 1000 Class 2\n",
    "    Testing Set:\n",
    "        * 1000 Class 1\n",
    "        * 1000 Class 2"
   ]
  },
  {
   "cell_type": "code",
   "execution_count": 34,
   "id": "6969ef49-ac5a-4605-922a-cd31acf14488",
   "metadata": {},
   "outputs": [
    {
     "name": "stdout",
     "output_type": "stream",
     "text": [
      "Simulated accuracy: 0.5080\n",
      "Simulated F1-score: 0.5080\n",
      "Analytic accuracy: 0.5000\n"
     ]
    }
   ],
   "source": [
    "trn_set_class_amounts = [1000, 1000]\n",
    "tst_set_class_amounts = [1000, 1000]\n",
    "\n",
    "sim_Acc, sim_F1 = sim_random_accuracy(trn_set_class_amounts, tst_set_class_amounts)\n",
    "ana_Acc = analytic_random_acc(trn_set_class_amounts, tst_set_class_amounts)\n",
    "\n",
    "print(f\"Simulated accuracy: {sim_Acc:.4f}\")\n",
    "print(f\"Simulated F1-score: {sim_F1:.4f}\")\n",
    "print(f\"Analytic accuracy: {ana_Acc:.4f}\")"
   ]
  },
  {
   "cell_type": "markdown",
   "id": "ca3e4eed-9be1-4a21-8bf0-ba4ab5c25912",
   "metadata": {},
   "source": [
    "# Simulating random guess accuracy for the following dataset:\n",
    "\n",
    "    Training Set:\n",
    "        * 1000 Class 1\n",
    "        * 1000 Class 2\n",
    "        * 1000 Class 3\n",
    "    Testing Set:\n",
    "        * 100 Class 1\n",
    "        * 100 Class 2\n",
    "        * 100 Class 3"
   ]
  },
  {
   "cell_type": "code",
   "execution_count": 35,
   "id": "4eac751e-077c-4cc5-b446-867e6af17600",
   "metadata": {},
   "outputs": [
    {
     "name": "stdout",
     "output_type": "stream",
     "text": [
      "Simulated accuracy: 0.3300\n",
      "Simulated F1-score: 0.3281\n",
      "Analytic accuracy: 0.3333\n"
     ]
    }
   ],
   "source": [
    "trn_set_class_amounts = [1000, 1000, 1000]\n",
    "tst_set_class_amounts = [100, 100, 100]\n",
    "\n",
    "sim_Acc, sim_F1 = sim_random_accuracy(trn_set_class_amounts, tst_set_class_amounts)\n",
    "ana_Acc = analytic_random_acc(trn_set_class_amounts, tst_set_class_amounts)\n",
    "\n",
    "print(f\"Simulated accuracy: {sim_Acc:.4f}\")\n",
    "print(f\"Simulated F1-score: {sim_F1:.4f}\")\n",
    "print(f\"Analytic accuracy: {ana_Acc:.4f}\")"
   ]
  },
  {
   "cell_type": "code",
   "execution_count": 38,
   "id": "aef7704c-3742-4bc5-9f4e-dbe0d21636e8",
   "metadata": {},
   "outputs": [
    {
     "name": "stdout",
     "output_type": "stream",
     "text": [
      "Simulated accuracy: 0.4022\n",
      "Simulated F1-score: 0.1700\n",
      "Analytic accuracy: 0.3964493889646125\n"
     ]
    }
   ],
   "source": [
    "trn_set_class_amounts = [231, 231, 1231, 312, 123, 12]\n",
    "tst_set_class_amounts = [100, 231, 1231, 312, 123, 12]\n",
    "\n",
    "sim_Acc, sim_F1 = sim_random_accuracy(trn_set_class_amounts, tst_set_class_amounts)\n",
    "ana_Acc = analytic_random_acc(trn_set_class_amounts, tst_set_class_amounts)\n",
    "\n",
    "print(f\"Simulated accuracy: {sim_Acc:.4f}\")\n",
    "print(f\"Simulated F1-score: {sim_F1:.4f}\")\n",
    "print(f\"Analytic accuracy: {ana_Acc}\")"
   ]
  },
  {
   "cell_type": "markdown",
   "id": "3f94e1c3-dbe4-4235-92e7-57fec5e077f9",
   "metadata": {},
   "source": [
    "# Simulated random guess accuracy for our SN dataset **WITH** data augmentation."
   ]
  },
  {
   "cell_type": "code",
   "execution_count": 54,
   "id": "0f45c90a-9fd5-47d8-851d-7bc065a222e0",
   "metadata": {},
   "outputs": [
    {
     "name": "stdout",
     "output_type": "stream",
     "text": [
      "Simulated accuracy: 0.0603\n",
      "Simulated F1-score: 0.0387\n",
      "Analytic accuracy: 0.0622\n"
     ]
    }
   ],
   "source": [
    "trn_set_class_amounts = [1058, 1141, 1111, 1068, 1064, 1106, 1089, 1062, 1120, 1060, 1120, 1062, 1062, 1102, 1060, 1064]\n",
    "tst_set_class_amounts = [1056, 185, 131, 4, 34, 32, 112, 18, 93, 7, 94, 111, 25, 46, 6, 3]\n",
    "\n",
    "sim_Acc, sim_F1 = sim_random_accuracy(trn_set_class_amounts, tst_set_class_amounts)\n",
    "ana_Acc = analytic_random_acc(trn_set_class_amounts, tst_set_class_amounts)\n",
    "\n",
    "print(f\"Simulated accuracy: {sim_Acc:.4f}\")\n",
    "print(f\"Simulated F1-score: {sim_F1:.4f}\")\n",
    "print(f\"Analytic accuracy: {ana_Acc:.4f}\")"
   ]
  },
  {
   "cell_type": "markdown",
   "id": "3bac8806-1bb9-4c48-9ce3-160fd4284fca",
   "metadata": {},
   "source": [
    "# Simulated random guess accuracy for our SN dataset **WITHOUT** data augmentation."
   ]
  },
  {
   "cell_type": "code",
   "execution_count": 56,
   "id": "c03812b3-a1c2-40d4-9d12-46ac200275f7",
   "metadata": {},
   "outputs": [
    {
     "name": "stdout",
     "output_type": "stream",
     "text": [
      "Simulated accuracy: 0.3163\n",
      "Simulated F1-score: 0.0621\n",
      "Analytic accuracy: 0.3087\n"
     ]
    }
   ],
   "source": [
    "trn_set_class_amounts = [1058, 163, 101, 12, 28, 79, 99, 9, 140, 5, 112, 118, 6, 58, 4, 19]\n",
    "tst_set_class_amounts = [1056, 185, 131, 4, 34, 32, 112, 18, 93, 7, 94, 111, 25, 46, 6, 3]\n",
    "\n",
    "sim_Acc, sim_F1 = sim_random_accuracy(trn_set_class_amounts, tst_set_class_amounts)\n",
    "ana_Acc = analytic_random_acc(trn_set_class_amounts, tst_set_class_amounts)\n",
    "\n",
    "print(f\"Simulated accuracy: {sim_Acc:.4f}\")\n",
    "print(f\"Simulated F1-score: {sim_F1:.4f}\")\n",
    "print(f\"Analytic accuracy: {ana_Acc:.4f}\")"
   ]
  },
  {
   "cell_type": "code",
   "execution_count": null,
   "id": "85433e0e-a3ee-4847-b784-3177b881ebc0",
   "metadata": {},
   "outputs": [],
   "source": []
  }
 ],
 "metadata": {
  "kernelspec": {
   "display_name": "Python 3 (ipykernel)",
   "language": "python",
   "name": "python3"
  },
  "language_info": {
   "codemirror_mode": {
    "name": "ipython",
    "version": 3
   },
   "file_extension": ".py",
   "mimetype": "text/x-python",
   "name": "python",
   "nbconvert_exporter": "python",
   "pygments_lexer": "ipython3",
   "version": "3.9.12"
  }
 },
 "nbformat": 4,
 "nbformat_minor": 5
}
