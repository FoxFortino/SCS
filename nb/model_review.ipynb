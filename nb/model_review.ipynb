{
 "cells": [
  {
   "cell_type": "code",
   "execution_count": null,
   "id": "bbe5ee5b-fc35-45b4-9670-b918a101d454",
   "metadata": {},
   "outputs": [
    {
     "name": "stdout",
     "output_type": "stream",
     "text": [
      "Loading\n"
     ]
    }
   ],
   "source": [
    "print(\"Loading\")\n",
    "import sys\n",
    "from shutil import rmtree\n",
    "from glob import glob\n",
    "import os\n",
    "from os.path import join\n",
    "from importlib import reload\n",
    "\n",
    "sys.path.insert(0, join(os.getcwd(), \"../scs\"))\n",
    "import batch_learn\n",
    "import hp_sets\n",
    "import data_plotting as dplt"
   ]
  },
  {
   "cell_type": "code",
   "execution_count": null,
   "id": "2f557eb6-d2be-4384-8bbf-16ede8392913",
   "metadata": {},
   "outputs": [],
   "source": [
    "dir_library = \"/lustre/lrspec/users/2649/spectralib_v1\"\n",
    "dir_models = \"/lustre/lrspec/users/2649/models\""
   ]
  },
  {
   "cell_type": "code",
   "execution_count": null,
   "id": "337b77c0-1851-4f90-9409-060d29d39ee8",
   "metadata": {},
   "outputs": [],
   "source": [
    "hp_set_name = \"T0\"\n",
    "batch_name = f\"100_{hp_set_name}\""
   ]
  },
  {
   "cell_type": "code",
   "execution_count": null,
   "id": "a567cbd0-3284-4394-b60c-7bc74117161e",
   "metadata": {},
   "outputs": [],
   "source": [
    "dir_batch_model = join(dir_models, batch_name)\n",
    "if not os.path.isdir(dir_batch_model):\n",
    "    print(f\"Creating {dir_batch_model}\")\n",
    "    os.mkdir(dir_batch_model)"
   ]
  },
  {
   "cell_type": "code",
   "execution_count": null,
   "id": "61c0964f-e8ea-49e9-87f0-8e2eaa5b3b6e",
   "metadata": {},
   "outputs": [],
   "source": [
    "reload(hp_sets)\n",
    "reload(batch_learn)\n",
    "\n",
    "model_dirs = sorted(glob(join(dir_batch_model, \"[0-9][0-9][0-9]_model\")))\n",
    "PG = eval(f\"hp_sets.{hp_set_name}()\")\n",
    "len(PG)"
   ]
  },
  {
   "cell_type": "code",
   "execution_count": null,
   "id": "e191bd02-01f4-4839-92c1-2a4e5fb7e4bb",
   "metadata": {},
   "outputs": [],
   "source": [
    "mg, keys, vals = batch_learn.get_metric_grid(PG, model_dirs)\n",
    "fig = dplt.plot_1D_results(mg, keys, vals)\n",
    "fig.show()"
   ]
  },
  {
   "cell_type": "code",
   "execution_count": null,
   "id": "61311668-4a8d-46f0-a1f2-97774dd2292d",
   "metadata": {},
   "outputs": [],
   "source": []
  },
  {
   "cell_type": "code",
   "execution_count": null,
   "id": "83a1c4cf-df83-43c1-8337-d2d45576f512",
   "metadata": {},
   "outputs": [],
   "source": []
  },
  {
   "cell_type": "code",
   "execution_count": null,
   "id": "0feafc60-a63c-4c96-b693-43cf0bfe236a",
   "metadata": {},
   "outputs": [],
   "source": [
    "# from scipy.special import binom\n",
    "# def plot_metric_grid(metric_grid, parameters, parameter_values, num_cols=4, scale=2, save=None):\n",
    "#     num_dim = metric_grid.ndim\n",
    "#     num_plots = int(binom(num_dim, 2))  # How many different plots per metric needs to be made\n",
    "#     # print(f\"Dimensionality of the grid: {num_dim}\")\n",
    "#     # print(f\"Number of plots: {num_plots}\")\n",
    "    \n",
    "#     num_rows = int(np.ceil(num_plots / num_cols))\n",
    "#     # print(f\"Figure shape: (num_cols: {num_cols}, num_rows: {num_rows})\")\n",
    "    \n",
    "#     fig, axes = plt.subplots(nrows=num_rows, ncols=num_cols, sharex=False, sharey=False, figsize=(num_cols*scale, num_rows*scale))\n",
    "#     if num_rows == num_cols == 1:\n",
    "#         ax = [axes]\n",
    "#     else:\n",
    "#         ax = axes.flatten()\n",
    "#     ind1, ind2 = np.triu_indices(n=num_dim)\n",
    "    \n",
    "#     vmin, vmax = np.nanmin(metric_grid[metric_grid != 0]), np.nanmax(metric_grid[metric_grid != 0])\n",
    "#     # vmin = 0\n",
    "#     # vmax = 1\n",
    "\n",
    "#     p = 0\n",
    "#     for (i, j) in zip(ind1, ind2):\n",
    "#         if i == j:\n",
    "#             continue\n",
    "\n",
    "#         if num_dim > 2:\n",
    "#             averaging_index = np.ones(num_dim, dtype=bool)\n",
    "#             averaging_index[i] = False\n",
    "#             averaging_index[j] = False\n",
    "#             averaging_axes = tuple(np.arange(num_dim)[averaging_index].astype(int))\n",
    "#             metric_image = np.nanmedian(metric_grid, axis=averaging_axes)\n",
    "#         else:\n",
    "#             metric_image = metric_grid.copy()\n",
    "\n",
    "#         parami = parameters[i]\n",
    "#         paramj = parameters[j]\n",
    "        \n",
    "#         parami_values = parameter_values[i]\n",
    "#         paramj_values = parameter_values[j]\n",
    "\n",
    "#         iticks = range(len(parami_values))\n",
    "#         jticks = range(len(paramj_values))\n",
    "\n",
    "#         iticklabels = np.around(parami_values, 5)\n",
    "#         jticklabels = np.around(paramj_values, 5)\n",
    "\n",
    "#         ax[p].imshow(\n",
    "#             metric_image,\n",
    "#             vmin=vmin,\n",
    "#             vmax=vmax,\n",
    "#             cmap=\"viridis\",\n",
    "#             # aspect=\"equal\",\n",
    "#             interpolation=\"nearest\",\n",
    "#             origin=\"lower\",\n",
    "#         )\n",
    "\n",
    "#         # Annotation\n",
    "#         for i in range(metric_image.shape[0]):\n",
    "#             for j in range(metric_image.shape[1]):\n",
    "#                 text = ax[p].text(\n",
    "#                     j, i, f\"{np.around(metric_image[i, j], 3)}\",\n",
    "#                     ha=\"center\", va=\"center\", color=\"k\")\n",
    "\n",
    "#         ax[p].set_yticks(iticks, iticklabels)\n",
    "#         ax[p].set_xticks(jticks, jticklabels)\n",
    "#         ax[p].set_ylabel(parami)\n",
    "#         ax[p].set_xlabel(paramj)\n",
    "#         p += 1\n",
    "\n",
    "#     if save is not None:\n",
    "#         plt.savefig(save)\n",
    "#     fig.show()\n",
    "\n",
    "# print(\"Testing F1\")\n",
    "# plot_metric_grid(metric_grid[..., 5], keys, vals, num_cols=1, scale=30)\n",
    "# plt.show()\n",
    "\n",
    "# print(\"Training F1\")\n",
    "# plot_metric_grid(metric_grid[..., 2], keys, vals, num_cols=1, scale=30)\n",
    "# plt.show()\n",
    "\n",
    "# print(\"Testing CA\")\n",
    "# plot_metric_grid(metric_grid[..., 4], keys, vals, num_cols=1, scale=30)\n",
    "# plt.show()\n",
    "\n",
    "# print(\"Training CA\")\n",
    "# plot_metric_grid(metric_grid[..., 3], keys, vals, num_cols=1, scale=30)\n",
    "# plt.show()"
   ]
  }
 ],
 "metadata": {
  "kernelspec": {
   "display_name": "Python 3 (ipykernel)",
   "language": "python",
   "name": "python3"
  },
  "language_info": {
   "codemirror_mode": {
    "name": "ipython",
    "version": 3
   },
   "file_extension": ".py",
   "mimetype": "text/x-python",
   "name": "python",
   "nbconvert_exporter": "python",
   "pygments_lexer": "ipython3",
   "version": "3.9.12"
  }
 },
 "nbformat": 4,
 "nbformat_minor": 5
}
