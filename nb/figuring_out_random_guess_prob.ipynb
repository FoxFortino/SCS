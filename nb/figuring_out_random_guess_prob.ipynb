{
 "cells": [
  {
   "cell_type": "code",
   "execution_count": 1,
   "id": "b86a8f4b-99a1-4a6f-8900-00c057136d3c",
   "metadata": {},
   "outputs": [],
   "source": [
    "import sys\n",
    "import os\n",
    "\n",
    "import numpy as np\n",
    "import pandas as pd\n",
    "from matplotlib import pyplot as plt\n",
    "from scipy import stats\n",
    "\n",
    "# My packages\n",
    "sys.path.insert(0, \"../scs/\")\n",
    "import data_degrading as dd\n",
    "import data_preparation as dp\n",
    "import data_augmentation as da\n",
    "from prepare_datasets_for_training import extract\n",
    "import data_plotting as dplt\n",
    "import scs_config\n",
    "\n",
    "from icecream import ic\n",
    "\n",
    "from importlib import reload\n",
    "\n",
    "rng = np.random.RandomState(1415)"
   ]
  },
  {
   "cell_type": "code",
   "execution_count": 2,
   "id": "9f45ab78-9aad-4a84-9971-b30df5240147",
   "metadata": {},
   "outputs": [],
   "source": [
    "df_P_trn = pd.read_parquet(\"/home/2649/repos/SCS/data/full_res/preprocessed_trn_set.parquet\")\n",
    "df_P_tst = pd.read_parquet(\"/home/2649/repos/SCS/data/full_res/preprocessed_tst_set.parquet\")"
   ]
  },
  {
   "cell_type": "code",
   "execution_count": 3,
   "id": "481f5c6a-2721-4f0c-8894-2ecca77ed6fd",
   "metadata": {},
   "outputs": [
    {
     "name": "stderr",
     "output_type": "stream",
     "text": [
      "ic| 'Data augmentation.'\n"
     ]
    }
   ],
   "source": [
    "ic(\"Data augmentation.\")\n",
    "wvl_range = (4500, 7000)\n",
    "spike_scale = 3\n",
    "max_spikes = 5\n",
    "\n",
    "df_PA_trn = da.augment(\n",
    "    df_P_trn,\n",
    "    rng,\n",
    "    wvl_range=wvl_range,\n",
    "    noise_scale=0,\n",
    "    spike_scale=spike_scale,\n",
    "    max_spikes=max_spikes,\n",
    ")"
   ]
  },
  {
   "cell_type": "code",
   "execution_count": 8,
   "id": "8ddda3ab-2ce0-4d05-9f5d-948737b9b385",
   "metadata": {},
   "outputs": [
    {
     "data": {
      "text/plain": [
       "(array([1058,  163,  101,   12,   28,   79,   99,    9,  140,    5,  112,\n",
       "         118,    6,   58,    4,   19]),\n",
       " array([0.52610641, 0.0810542 , 0.05022377, 0.00596718, 0.01392342,\n",
       "        0.03928394, 0.04922924, 0.00447539, 0.06961711, 0.00248633,\n",
       "        0.05569368, 0.05867727, 0.00298359, 0.02884137, 0.00198906,\n",
       "        0.00944804]))"
      ]
     },
     "execution_count": 8,
     "metadata": {},
     "output_type": "execute_result"
    }
   ],
   "source": [
    "num_spec_trn = df_P_trn.shape[0]\n",
    "trn_amts = df_P_trn.groupby(by=[\"SN Subtype ID\"]).count()[\"SN Subtype\"].values\n",
    "trn_probs = trn_amts / num_spec_trn\n",
    "trn_amts, trn_probs"
   ]
  },
  {
   "cell_type": "code",
   "execution_count": 5,
   "id": "0ea3c3f5-1023-41ae-b7fd-486bb9fa64b8",
   "metadata": {},
   "outputs": [
    {
     "data": {
      "text/plain": [
       "(array([1056,  185,  131,    4,   34,   32,  112,   18,   93,    7,   94,\n",
       "         111,   25,   46,    6,    3]),\n",
       " array([0.53960143, 0.09453245, 0.06693919, 0.00204394, 0.01737353,\n",
       "        0.01635156, 0.05723045, 0.00919775, 0.04752172, 0.0035769 ,\n",
       "        0.0480327 , 0.05671947, 0.01277466, 0.02350537, 0.00306592,\n",
       "        0.00153296]))"
      ]
     },
     "execution_count": 5,
     "metadata": {},
     "output_type": "execute_result"
    }
   ],
   "source": [
    "num_spec_tst = df_P_tst.shape[0]\n",
    "tst_amts = df_P_tst.groupby(by=[\"SN Subtype ID\"]).count()[\"SN Subtype\"].values\n",
    "tst_probs = tst_amts / num_spec_tst\n",
    "tst_amts, tst_probs"
   ]
  },
  {
   "cell_type": "code",
   "execution_count": 6,
   "id": "633ba557-be7e-4a6d-80b6-e7b7812173f8",
   "metadata": {},
   "outputs": [
    {
     "data": {
      "text/plain": [
       "0.06221531678567441"
      ]
     },
     "execution_count": 6,
     "metadata": {},
     "output_type": "execute_result"
    }
   ],
   "source": [
    "np.dot(trn_probs, tst_probs)"
   ]
  },
  {
   "cell_type": "code",
   "execution_count": null,
   "id": "62235d2f-57a6-423a-8ff3-6e6ce0102419",
   "metadata": {},
   "outputs": [],
   "source": []
  }
 ],
 "metadata": {
  "kernelspec": {
   "display_name": "Python 3 (ipykernel)",
   "language": "python",
   "name": "python3"
  },
  "language_info": {
   "codemirror_mode": {
    "name": "ipython",
    "version": 3
   },
   "file_extension": ".py",
   "mimetype": "text/x-python",
   "name": "python",
   "nbconvert_exporter": "python",
   "pygments_lexer": "ipython3",
   "version": "3.9.12"
  }
 },
 "nbformat": 4,
 "nbformat_minor": 5
}
