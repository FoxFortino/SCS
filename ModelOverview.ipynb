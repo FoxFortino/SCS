{
 "cells": [
  {
   "cell_type": "markdown",
   "id": "699bb3ca-a88b-4378-b200-70f47d0ee84f",
   "metadata": {},
   "source": [
    "# Models and their performances\n",
    "\n",
    "## DASH (R = 738) (published and wrong):\n",
    "\n",
    "    ### I haven't calculated the macro f1-score exactly but probably **~>0.90**\n",
    "\n",
    "## DASH (50 <= R <= 739) (corrected, as seen in my RRE):\n",
    "\n",
    "    ### **~0.50**\n",
    "\n",
    "## SEDM (F1-score for SNIa only while keeping FPR < 0.005):\n",
    "    ### **0.91**\n",
    "\n",
    "## Our best non-transformer model\n",
    "    ### Testing set macro F1-score: 0.705\n",
    "    ### Training set macro F1-score: 0.985\n",
    "\n",
    "## Our best transformer model\n",
    "    ### Testing set macro F1-score: ~0.60 ± 0.05\n",
    "    ### Training set macro F1-score ~0.90 ± 0.05"
   ]
  },
  {
   "cell_type": "code",
   "execution_count": null,
   "id": "dc2c433a-e17f-44ce-b9b0-ce6ee38c734d",
   "metadata": {},
   "outputs": [],
   "source": []
  }
 ],
 "metadata": {
  "kernelspec": {
   "display_name": "Python 3 (ipykernel)",
   "language": "python",
   "name": "python3"
  },
  "language_info": {
   "codemirror_mode": {
    "name": "ipython",
    "version": 3
   },
   "file_extension": ".py",
   "mimetype": "text/x-python",
   "name": "python",
   "nbconvert_exporter": "python",
   "pygments_lexer": "ipython3",
   "version": "3.9.12"
  }
 },
 "nbformat": 4,
 "nbformat_minor": 5
}
